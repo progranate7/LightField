{
 "cells": [
  {
   "cell_type": "code",
   "execution_count": 1,
   "metadata": {},
   "outputs": [],
   "source": [
    "import cv2\n",
    "import numpy as np"
   ]
  },
  {
   "cell_type": "code",
   "execution_count": 2,
   "metadata": {},
   "outputs": [],
   "source": [
    "# dataset\n",
    "# Dice in http://web.media.mit.edu/~gordonw/SyntheticLightFields/index.php\n",
    "\n",
    "img_array = []\n",
    "\n",
    "for i in range(1, 26):\n",
    "    filename = 'dice_5x5_ap50/dice-%02d.png' % i\n",
    "    img = cv2.imread(filename)\n",
    "    img_array.append(img)"
   ]
  },
  {
   "cell_type": "code",
   "execution_count": 6,
   "metadata": {},
   "outputs": [],
   "source": [
    "position = [[-2.5, -2.5],\n",
    "            [-1.25, -2.5],\n",
    "            [0.0, -2.5],\n",
    "            [1.25, -2.5],\n",
    "            [2.5, -2.5],\n",
    "            [-2.5, -1.25],\n",
    "            [-1.25, -1.25],\n",
    "            [0.0, -1.25],\n",
    "            [1.25, -1.25],\n",
    "            [2.5, -1.25],\n",
    "            [-2.5, 0.0],\n",
    "            [-1.25, 0.0],\n",
    "            [-0.0, 0.0],\n",
    "            [1.25, 0.0],\n",
    "            [2.5, 0.0],\n",
    "            [-2.5, 1.25],\n",
    "            [-1.25, 1.25],\n",
    "            [0.0, 1.25],\n",
    "            [1.25, 1.25],\n",
    "            [2.5, 1.25],\n",
    "            [-2.5, 2.5],\n",
    "            [-1.25, 2.5],\n",
    "            [0.0, 2.5],\n",
    "            [1.25, 2.5],\n",
    "            [2.5, 2.5]]\n"
   ]
  },
  {
   "cell_type": "code",
   "execution_count": 22,
   "metadata": {},
   "outputs": [
    {
     "ename": "TypeError",
     "evalue": "Required argument 'mat' (pos 2) not found",
     "output_type": "error",
     "traceback": [
      "\u001b[0;31m---------------------------------------------------------------------------\u001b[0m",
      "\u001b[0;31mTypeError\u001b[0m                                 Traceback (most recent call last)",
      "\u001b[0;32m<ipython-input-22-8b10cfab672b>\u001b[0m in \u001b[0;36m<module>\u001b[0;34m()\u001b[0m\n\u001b[1;32m     10\u001b[0m \u001b[0mcv2\u001b[0m\u001b[0;34m.\u001b[0m\u001b[0mimwrite\u001b[0m\u001b[0;34m(\u001b[0m\u001b[0;34m'tmp.png'\u001b[0m\u001b[0;34m,\u001b[0m \u001b[0mrefocused_img\u001b[0m\u001b[0;34m)\u001b[0m\u001b[0;34m\u001b[0m\u001b[0m\n\u001b[1;32m     11\u001b[0m \u001b[0;34m\u001b[0m\u001b[0m\n\u001b[0;32m---> 12\u001b[0;31m \u001b[0mcv2\u001b[0m\u001b[0;34m.\u001b[0m\u001b[0mimshow\u001b[0m\u001b[0;34m(\u001b[0m\u001b[0mrefocused_img\u001b[0m\u001b[0;34m[\u001b[0m\u001b[0;36m0\u001b[0m\u001b[0;34m]\u001b[0m\u001b[0;34m)\u001b[0m\u001b[0;34m\u001b[0m\u001b[0m\n\u001b[0m",
      "\u001b[0;31mTypeError\u001b[0m: Required argument 'mat' (pos 2) not found"
     ]
    }
   ],
   "source": [
    "depth = 10\n",
    "\n",
    "refocused_img = np.zeros(img_array[0].shape)\n",
    "for i in range(0, 25):\n",
    "    M = np.float32([[1,0,shift_x*position[i][0]],[0,1,shift_y*position[i][1]]]) #アフィン変換でシフトさせる\n",
    "    dst = cv2.warpAffine(img_array[i],M,(img_array[0].shape[1],img_array[0].shape[0]))\n",
    "    refocused_img += dst/25.0\n",
    "\n",
    "cv2.imwrite('tmp.png', refocused_img)\n",
    "    \n",
    "cv2.imshow(refocused_img[0])"
   ]
  },
  {
   "cell_type": "code",
   "execution_count": null,
   "metadata": {},
   "outputs": [],
   "source": []
  }
 ],
 "metadata": {
  "kernelspec": {
   "display_name": "Python 3",
   "language": "python",
   "name": "python3"
  },
  "language_info": {
   "codemirror_mode": {
    "name": "ipython",
    "version": 3
   },
   "file_extension": ".py",
   "mimetype": "text/x-python",
   "name": "python",
   "nbconvert_exporter": "python",
   "pygments_lexer": "ipython3",
   "version": "3.6.6"
  }
 },
 "nbformat": 4,
 "nbformat_minor": 2
}
